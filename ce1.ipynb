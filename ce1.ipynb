{
 "cells": [
  {
   "cell_type": "code",
   "execution_count": 3,
   "metadata": {
    "tags": []
   },
   "outputs": [],
   "source": [
    "import pandas as pd \n",
    "import patsy\n",
    "import numpy as np \n",
    "import matplotlib.pyplot as plt \n",
    "import seaborn as sns\n",
    "from feature_model import FeatureModel\n",
    "import contextlib"
   ]
  },
  {
   "cell_type": "code",
   "execution_count": 4,
   "metadata": {
    "tags": []
   },
   "outputs": [],
   "source": [
    "from ce1_compare import compare, set_name, write_submission_txt,set_idm"
   ]
  },
  {
   "cell_type": "code",
   "execution_count": 5,
   "metadata": {
    "tags": []
   },
   "outputs": [],
   "source": [
    "set_name(\"Srusti\", \"UjjiniMath\")\n",
    "set_idm(\"qa50zoly\")"
   ]
  },
  {
   "cell_type": "markdown",
   "metadata": {},
   "source": [
    "# CE1 (Inherently explainable models part 1)\n",
    "    - 1.1 Taking a look at the data: The bike dataset\n",
    "        - 1.1.1 Fitting a RandomForestRegressor but something seems off..\n",
    "            - Can you explain please?\n",
    "        - 1.1.2 Finding the mistake through correlations\n",
    "    - 1.2 Linear Modeling\n",
    "        - 1.2.1 The intercept feature\n",
    "        - 1.2.2 Re-scaling and shifting numerical features: Standardization\n",
    "        - 1.2.3 Categorical encodings\n",
    "        \n",
    "    - Exercises/Homework:\n",
    "        - 1.1 Standardising data\n",
    "        - 1.2 LASSO-Regularisation\n",
    "        - 1.3 Effect plot\n",
    "        - 1.4 Feature engineering: Adding feature interaction \n",
    "        - 1.5 Feature engineering: Custom basis functions \n"
   ]
  },
  {
   "cell_type": "markdown",
   "metadata": {
    "tags": []
   },
   "source": [
    "### 1.1.0 The bike dataset"
   ]
  },
  {
   "cell_type": "code",
   "execution_count": 6,
   "metadata": {
    "tags": []
   },
   "outputs": [],
   "source": [
    "bike_data = FeatureModel(\"datasets/bike/rented_bikes_day_pre.csv\")"
   ]
  },
  {
   "cell_type": "code",
   "execution_count": 7,
   "metadata": {
    "tags": []
   },
   "outputs": [
    {
     "data": {
      "text/html": [
       "<div>\n",
       "<style scoped>\n",
       "    .dataframe tbody tr th:only-of-type {\n",
       "        vertical-align: middle;\n",
       "    }\n",
       "\n",
       "    .dataframe tbody tr th {\n",
       "        vertical-align: top;\n",
       "    }\n",
       "\n",
       "    .dataframe thead th {\n",
       "        text-align: right;\n",
       "    }\n",
       "</style>\n",
       "<table border=\"1\" class=\"dataframe\">\n",
       "  <thead>\n",
       "    <tr style=\"text-align: right;\">\n",
       "      <th></th>\n",
       "      <th>season</th>\n",
       "      <th>yr</th>\n",
       "      <th>mnth</th>\n",
       "      <th>holiday</th>\n",
       "      <th>weekday</th>\n",
       "      <th>workingday</th>\n",
       "      <th>weathersit</th>\n",
       "      <th>temp</th>\n",
       "      <th>hum</th>\n",
       "      <th>windspeed</th>\n",
       "      <th>casual</th>\n",
       "      <th>registered</th>\n",
       "      <th>cnt</th>\n",
       "      <th>days_since_01_01_2011</th>\n",
       "    </tr>\n",
       "  </thead>\n",
       "  <tbody>\n",
       "    <tr>\n",
       "      <th>0</th>\n",
       "      <td>1</td>\n",
       "      <td>0</td>\n",
       "      <td>1</td>\n",
       "      <td>0</td>\n",
       "      <td>6</td>\n",
       "      <td>0</td>\n",
       "      <td>2</td>\n",
       "      <td>8.175849</td>\n",
       "      <td>0.805833</td>\n",
       "      <td>0.160446</td>\n",
       "      <td>331</td>\n",
       "      <td>654</td>\n",
       "      <td>985</td>\n",
       "      <td>0</td>\n",
       "    </tr>\n",
       "    <tr>\n",
       "      <th>1</th>\n",
       "      <td>1</td>\n",
       "      <td>0</td>\n",
       "      <td>1</td>\n",
       "      <td>0</td>\n",
       "      <td>0</td>\n",
       "      <td>0</td>\n",
       "      <td>2</td>\n",
       "      <td>9.083466</td>\n",
       "      <td>0.696087</td>\n",
       "      <td>0.248539</td>\n",
       "      <td>131</td>\n",
       "      <td>670</td>\n",
       "      <td>801</td>\n",
       "      <td>1</td>\n",
       "    </tr>\n",
       "    <tr>\n",
       "      <th>2</th>\n",
       "      <td>1</td>\n",
       "      <td>0</td>\n",
       "      <td>1</td>\n",
       "      <td>0</td>\n",
       "      <td>1</td>\n",
       "      <td>1</td>\n",
       "      <td>1</td>\n",
       "      <td>1.229108</td>\n",
       "      <td>0.437273</td>\n",
       "      <td>0.248309</td>\n",
       "      <td>120</td>\n",
       "      <td>1229</td>\n",
       "      <td>1349</td>\n",
       "      <td>2</td>\n",
       "    </tr>\n",
       "    <tr>\n",
       "      <th>3</th>\n",
       "      <td>1</td>\n",
       "      <td>0</td>\n",
       "      <td>1</td>\n",
       "      <td>0</td>\n",
       "      <td>2</td>\n",
       "      <td>1</td>\n",
       "      <td>1</td>\n",
       "      <td>1.400000</td>\n",
       "      <td>0.590435</td>\n",
       "      <td>0.160296</td>\n",
       "      <td>108</td>\n",
       "      <td>1454</td>\n",
       "      <td>1562</td>\n",
       "      <td>3</td>\n",
       "    </tr>\n",
       "    <tr>\n",
       "      <th>4</th>\n",
       "      <td>1</td>\n",
       "      <td>0</td>\n",
       "      <td>1</td>\n",
       "      <td>0</td>\n",
       "      <td>3</td>\n",
       "      <td>1</td>\n",
       "      <td>1</td>\n",
       "      <td>2.666979</td>\n",
       "      <td>0.436957</td>\n",
       "      <td>0.186900</td>\n",
       "      <td>82</td>\n",
       "      <td>1518</td>\n",
       "      <td>1600</td>\n",
       "      <td>4</td>\n",
       "    </tr>\n",
       "    <tr>\n",
       "      <th>...</th>\n",
       "      <td>...</td>\n",
       "      <td>...</td>\n",
       "      <td>...</td>\n",
       "      <td>...</td>\n",
       "      <td>...</td>\n",
       "      <td>...</td>\n",
       "      <td>...</td>\n",
       "      <td>...</td>\n",
       "      <td>...</td>\n",
       "      <td>...</td>\n",
       "      <td>...</td>\n",
       "      <td>...</td>\n",
       "      <td>...</td>\n",
       "      <td>...</td>\n",
       "    </tr>\n",
       "    <tr>\n",
       "      <th>726</th>\n",
       "      <td>1</td>\n",
       "      <td>1</td>\n",
       "      <td>12</td>\n",
       "      <td>0</td>\n",
       "      <td>4</td>\n",
       "      <td>1</td>\n",
       "      <td>2</td>\n",
       "      <td>3.945849</td>\n",
       "      <td>0.652917</td>\n",
       "      <td>0.350133</td>\n",
       "      <td>247</td>\n",
       "      <td>1867</td>\n",
       "      <td>2114</td>\n",
       "      <td>726</td>\n",
       "    </tr>\n",
       "    <tr>\n",
       "      <th>727</th>\n",
       "      <td>1</td>\n",
       "      <td>1</td>\n",
       "      <td>12</td>\n",
       "      <td>0</td>\n",
       "      <td>5</td>\n",
       "      <td>1</td>\n",
       "      <td>2</td>\n",
       "      <td>3.906651</td>\n",
       "      <td>0.590000</td>\n",
       "      <td>0.155471</td>\n",
       "      <td>644</td>\n",
       "      <td>2451</td>\n",
       "      <td>3095</td>\n",
       "      <td>727</td>\n",
       "    </tr>\n",
       "    <tr>\n",
       "      <th>728</th>\n",
       "      <td>1</td>\n",
       "      <td>1</td>\n",
       "      <td>12</td>\n",
       "      <td>0</td>\n",
       "      <td>6</td>\n",
       "      <td>0</td>\n",
       "      <td>2</td>\n",
       "      <td>3.906651</td>\n",
       "      <td>0.752917</td>\n",
       "      <td>0.124383</td>\n",
       "      <td>159</td>\n",
       "      <td>1182</td>\n",
       "      <td>1341</td>\n",
       "      <td>728</td>\n",
       "    </tr>\n",
       "    <tr>\n",
       "      <th>729</th>\n",
       "      <td>1</td>\n",
       "      <td>1</td>\n",
       "      <td>12</td>\n",
       "      <td>0</td>\n",
       "      <td>0</td>\n",
       "      <td>0</td>\n",
       "      <td>1</td>\n",
       "      <td>4.024151</td>\n",
       "      <td>0.483333</td>\n",
       "      <td>0.350754</td>\n",
       "      <td>364</td>\n",
       "      <td>1432</td>\n",
       "      <td>1796</td>\n",
       "      <td>729</td>\n",
       "    </tr>\n",
       "    <tr>\n",
       "      <th>730</th>\n",
       "      <td>1</td>\n",
       "      <td>1</td>\n",
       "      <td>12</td>\n",
       "      <td>0</td>\n",
       "      <td>1</td>\n",
       "      <td>1</td>\n",
       "      <td>2</td>\n",
       "      <td>2.144151</td>\n",
       "      <td>0.577500</td>\n",
       "      <td>0.154846</td>\n",
       "      <td>439</td>\n",
       "      <td>2290</td>\n",
       "      <td>2729</td>\n",
       "      <td>730</td>\n",
       "    </tr>\n",
       "  </tbody>\n",
       "</table>\n",
       "<p>731 rows × 14 columns</p>\n",
       "</div>"
      ],
      "text/plain": [
       "     season  yr  mnth  holiday  weekday  workingday  weathersit      temp  \\\n",
       "0         1   0     1        0        6           0           2  8.175849   \n",
       "1         1   0     1        0        0           0           2  9.083466   \n",
       "2         1   0     1        0        1           1           1  1.229108   \n",
       "3         1   0     1        0        2           1           1  1.400000   \n",
       "4         1   0     1        0        3           1           1  2.666979   \n",
       "..      ...  ..   ...      ...      ...         ...         ...       ...   \n",
       "726       1   1    12        0        4           1           2  3.945849   \n",
       "727       1   1    12        0        5           1           2  3.906651   \n",
       "728       1   1    12        0        6           0           2  3.906651   \n",
       "729       1   1    12        0        0           0           1  4.024151   \n",
       "730       1   1    12        0        1           1           2  2.144151   \n",
       "\n",
       "          hum  windspeed  casual  registered   cnt  days_since_01_01_2011  \n",
       "0    0.805833   0.160446     331         654   985                      0  \n",
       "1    0.696087   0.248539     131         670   801                      1  \n",
       "2    0.437273   0.248309     120        1229  1349                      2  \n",
       "3    0.590435   0.160296     108        1454  1562                      3  \n",
       "4    0.436957   0.186900      82        1518  1600                      4  \n",
       "..        ...        ...     ...         ...   ...                    ...  \n",
       "726  0.652917   0.350133     247        1867  2114                    726  \n",
       "727  0.590000   0.155471     644        2451  3095                    727  \n",
       "728  0.752917   0.124383     159        1182  1341                    728  \n",
       "729  0.483333   0.350754     364        1432  1796                    729  \n",
       "730  0.577500   0.154846     439        2290  2729                    730  \n",
       "\n",
       "[731 rows x 14 columns]"
      ]
     },
     "execution_count": 7,
     "metadata": {},
     "output_type": "execute_result"
    }
   ],
   "source": [
    "bike_data.df"
   ]
  },
  {
   "cell_type": "markdown",
   "metadata": {
    "tags": []
   },
   "source": [
    "#### Let's check out the `datasets/bike/readme.txt` to find out what all these columns represent"
   ]
  },
  {
   "cell_type": "code",
   "execution_count": 8,
   "metadata": {
    "tags": []
   },
   "outputs": [
    {
     "name": "stdout",
     "output_type": "stream",
     "text": [
      "FeatureModel(->Not fully specified yet!)\n"
     ]
    }
   ],
   "source": [
    "bike_data.add_target(\"cnt\")"
   ]
  },
  {
   "cell_type": "code",
   "execution_count": 9,
   "metadata": {
    "tags": []
   },
   "outputs": [
    {
     "name": "stdout",
     "output_type": "stream",
     "text": [
      "FeatureModel(cnt ~ -1 + season + yr + mnth + holiday + weekday + workingday + weathersit + temp + hum + windspeed + casual + registered + days_since_01_01_2011 )\n"
     ]
    }
   ],
   "source": [
    "bike_data.add_all_features_but_target()"
   ]
  },
  {
   "cell_type": "code",
   "execution_count": 10,
   "metadata": {
    "tags": []
   },
   "outputs": [],
   "source": [
    "X, y = bike_data.return_Xy()"
   ]
  },
  {
   "cell_type": "code",
   "execution_count": 11,
   "metadata": {
    "tags": []
   },
   "outputs": [
    {
     "data": {
      "text/html": [
       "<div>\n",
       "<style scoped>\n",
       "    .dataframe tbody tr th:only-of-type {\n",
       "        vertical-align: middle;\n",
       "    }\n",
       "\n",
       "    .dataframe tbody tr th {\n",
       "        vertical-align: top;\n",
       "    }\n",
       "\n",
       "    .dataframe thead th {\n",
       "        text-align: right;\n",
       "    }\n",
       "</style>\n",
       "<table border=\"1\" class=\"dataframe\">\n",
       "  <thead>\n",
       "    <tr style=\"text-align: right;\">\n",
       "      <th></th>\n",
       "      <th>season</th>\n",
       "      <th>yr</th>\n",
       "      <th>mnth</th>\n",
       "      <th>holiday</th>\n",
       "      <th>weekday</th>\n",
       "      <th>workingday</th>\n",
       "      <th>weathersit</th>\n",
       "      <th>temp</th>\n",
       "      <th>hum</th>\n",
       "      <th>windspeed</th>\n",
       "      <th>casual</th>\n",
       "      <th>registered</th>\n",
       "      <th>days_since_01_01_2011</th>\n",
       "    </tr>\n",
       "  </thead>\n",
       "  <tbody>\n",
       "    <tr>\n",
       "      <th>0</th>\n",
       "      <td>1.0</td>\n",
       "      <td>0.0</td>\n",
       "      <td>1.0</td>\n",
       "      <td>0.0</td>\n",
       "      <td>6.0</td>\n",
       "      <td>0.0</td>\n",
       "      <td>2.0</td>\n",
       "      <td>8.175849</td>\n",
       "      <td>0.805833</td>\n",
       "      <td>0.160446</td>\n",
       "      <td>331.0</td>\n",
       "      <td>654.0</td>\n",
       "      <td>0.0</td>\n",
       "    </tr>\n",
       "    <tr>\n",
       "      <th>1</th>\n",
       "      <td>1.0</td>\n",
       "      <td>0.0</td>\n",
       "      <td>1.0</td>\n",
       "      <td>0.0</td>\n",
       "      <td>0.0</td>\n",
       "      <td>0.0</td>\n",
       "      <td>2.0</td>\n",
       "      <td>9.083466</td>\n",
       "      <td>0.696087</td>\n",
       "      <td>0.248539</td>\n",
       "      <td>131.0</td>\n",
       "      <td>670.0</td>\n",
       "      <td>1.0</td>\n",
       "    </tr>\n",
       "    <tr>\n",
       "      <th>2</th>\n",
       "      <td>1.0</td>\n",
       "      <td>0.0</td>\n",
       "      <td>1.0</td>\n",
       "      <td>0.0</td>\n",
       "      <td>1.0</td>\n",
       "      <td>1.0</td>\n",
       "      <td>1.0</td>\n",
       "      <td>1.229108</td>\n",
       "      <td>0.437273</td>\n",
       "      <td>0.248309</td>\n",
       "      <td>120.0</td>\n",
       "      <td>1229.0</td>\n",
       "      <td>2.0</td>\n",
       "    </tr>\n",
       "    <tr>\n",
       "      <th>3</th>\n",
       "      <td>1.0</td>\n",
       "      <td>0.0</td>\n",
       "      <td>1.0</td>\n",
       "      <td>0.0</td>\n",
       "      <td>2.0</td>\n",
       "      <td>1.0</td>\n",
       "      <td>1.0</td>\n",
       "      <td>1.400000</td>\n",
       "      <td>0.590435</td>\n",
       "      <td>0.160296</td>\n",
       "      <td>108.0</td>\n",
       "      <td>1454.0</td>\n",
       "      <td>3.0</td>\n",
       "    </tr>\n",
       "    <tr>\n",
       "      <th>4</th>\n",
       "      <td>1.0</td>\n",
       "      <td>0.0</td>\n",
       "      <td>1.0</td>\n",
       "      <td>0.0</td>\n",
       "      <td>3.0</td>\n",
       "      <td>1.0</td>\n",
       "      <td>1.0</td>\n",
       "      <td>2.666979</td>\n",
       "      <td>0.436957</td>\n",
       "      <td>0.186900</td>\n",
       "      <td>82.0</td>\n",
       "      <td>1518.0</td>\n",
       "      <td>4.0</td>\n",
       "    </tr>\n",
       "    <tr>\n",
       "      <th>...</th>\n",
       "      <td>...</td>\n",
       "      <td>...</td>\n",
       "      <td>...</td>\n",
       "      <td>...</td>\n",
       "      <td>...</td>\n",
       "      <td>...</td>\n",
       "      <td>...</td>\n",
       "      <td>...</td>\n",
       "      <td>...</td>\n",
       "      <td>...</td>\n",
       "      <td>...</td>\n",
       "      <td>...</td>\n",
       "      <td>...</td>\n",
       "    </tr>\n",
       "    <tr>\n",
       "      <th>726</th>\n",
       "      <td>1.0</td>\n",
       "      <td>1.0</td>\n",
       "      <td>12.0</td>\n",
       "      <td>0.0</td>\n",
       "      <td>4.0</td>\n",
       "      <td>1.0</td>\n",
       "      <td>2.0</td>\n",
       "      <td>3.945849</td>\n",
       "      <td>0.652917</td>\n",
       "      <td>0.350133</td>\n",
       "      <td>247.0</td>\n",
       "      <td>1867.0</td>\n",
       "      <td>726.0</td>\n",
       "    </tr>\n",
       "    <tr>\n",
       "      <th>727</th>\n",
       "      <td>1.0</td>\n",
       "      <td>1.0</td>\n",
       "      <td>12.0</td>\n",
       "      <td>0.0</td>\n",
       "      <td>5.0</td>\n",
       "      <td>1.0</td>\n",
       "      <td>2.0</td>\n",
       "      <td>3.906651</td>\n",
       "      <td>0.590000</td>\n",
       "      <td>0.155471</td>\n",
       "      <td>644.0</td>\n",
       "      <td>2451.0</td>\n",
       "      <td>727.0</td>\n",
       "    </tr>\n",
       "    <tr>\n",
       "      <th>728</th>\n",
       "      <td>1.0</td>\n",
       "      <td>1.0</td>\n",
       "      <td>12.0</td>\n",
       "      <td>0.0</td>\n",
       "      <td>6.0</td>\n",
       "      <td>0.0</td>\n",
       "      <td>2.0</td>\n",
       "      <td>3.906651</td>\n",
       "      <td>0.752917</td>\n",
       "      <td>0.124383</td>\n",
       "      <td>159.0</td>\n",
       "      <td>1182.0</td>\n",
       "      <td>728.0</td>\n",
       "    </tr>\n",
       "    <tr>\n",
       "      <th>729</th>\n",
       "      <td>1.0</td>\n",
       "      <td>1.0</td>\n",
       "      <td>12.0</td>\n",
       "      <td>0.0</td>\n",
       "      <td>0.0</td>\n",
       "      <td>0.0</td>\n",
       "      <td>1.0</td>\n",
       "      <td>4.024151</td>\n",
       "      <td>0.483333</td>\n",
       "      <td>0.350754</td>\n",
       "      <td>364.0</td>\n",
       "      <td>1432.0</td>\n",
       "      <td>729.0</td>\n",
       "    </tr>\n",
       "    <tr>\n",
       "      <th>730</th>\n",
       "      <td>1.0</td>\n",
       "      <td>1.0</td>\n",
       "      <td>12.0</td>\n",
       "      <td>0.0</td>\n",
       "      <td>1.0</td>\n",
       "      <td>1.0</td>\n",
       "      <td>2.0</td>\n",
       "      <td>2.144151</td>\n",
       "      <td>0.577500</td>\n",
       "      <td>0.154846</td>\n",
       "      <td>439.0</td>\n",
       "      <td>2290.0</td>\n",
       "      <td>730.0</td>\n",
       "    </tr>\n",
       "  </tbody>\n",
       "</table>\n",
       "<p>731 rows × 13 columns</p>\n",
       "</div>"
      ],
      "text/plain": [
       "     season   yr  mnth  holiday  weekday  workingday  weathersit      temp  \\\n",
       "0       1.0  0.0   1.0      0.0      6.0         0.0         2.0  8.175849   \n",
       "1       1.0  0.0   1.0      0.0      0.0         0.0         2.0  9.083466   \n",
       "2       1.0  0.0   1.0      0.0      1.0         1.0         1.0  1.229108   \n",
       "3       1.0  0.0   1.0      0.0      2.0         1.0         1.0  1.400000   \n",
       "4       1.0  0.0   1.0      0.0      3.0         1.0         1.0  2.666979   \n",
       "..      ...  ...   ...      ...      ...         ...         ...       ...   \n",
       "726     1.0  1.0  12.0      0.0      4.0         1.0         2.0  3.945849   \n",
       "727     1.0  1.0  12.0      0.0      5.0         1.0         2.0  3.906651   \n",
       "728     1.0  1.0  12.0      0.0      6.0         0.0         2.0  3.906651   \n",
       "729     1.0  1.0  12.0      0.0      0.0         0.0         1.0  4.024151   \n",
       "730     1.0  1.0  12.0      0.0      1.0         1.0         2.0  2.144151   \n",
       "\n",
       "          hum  windspeed  casual  registered  days_since_01_01_2011  \n",
       "0    0.805833   0.160446   331.0       654.0                    0.0  \n",
       "1    0.696087   0.248539   131.0       670.0                    1.0  \n",
       "2    0.437273   0.248309   120.0      1229.0                    2.0  \n",
       "3    0.590435   0.160296   108.0      1454.0                    3.0  \n",
       "4    0.436957   0.186900    82.0      1518.0                    4.0  \n",
       "..        ...        ...     ...         ...                    ...  \n",
       "726  0.652917   0.350133   247.0      1867.0                  726.0  \n",
       "727  0.590000   0.155471   644.0      2451.0                  727.0  \n",
       "728  0.752917   0.124383   159.0      1182.0                  728.0  \n",
       "729  0.483333   0.350754   364.0      1432.0                  729.0  \n",
       "730  0.577500   0.154846   439.0      2290.0                  730.0  \n",
       "\n",
       "[731 rows x 13 columns]"
      ]
     },
     "execution_count": 11,
     "metadata": {},
     "output_type": "execute_result"
    }
   ],
   "source": [
    "X"
   ]
  },
  {
   "cell_type": "code",
   "execution_count": 12,
   "metadata": {
    "tags": []
   },
   "outputs": [],
   "source": [
    "bike_data.intercept=False\n",
    "\n",
    "X, y = bike_data.return_Xy()"
   ]
  },
  {
   "cell_type": "code",
   "execution_count": 13,
   "metadata": {
    "tags": []
   },
   "outputs": [
    {
     "data": {
      "text/html": [
       "<div>\n",
       "<style scoped>\n",
       "    .dataframe tbody tr th:only-of-type {\n",
       "        vertical-align: middle;\n",
       "    }\n",
       "\n",
       "    .dataframe tbody tr th {\n",
       "        vertical-align: top;\n",
       "    }\n",
       "\n",
       "    .dataframe thead th {\n",
       "        text-align: right;\n",
       "    }\n",
       "</style>\n",
       "<table border=\"1\" class=\"dataframe\">\n",
       "  <thead>\n",
       "    <tr style=\"text-align: right;\">\n",
       "      <th></th>\n",
       "      <th>season</th>\n",
       "      <th>yr</th>\n",
       "      <th>mnth</th>\n",
       "      <th>holiday</th>\n",
       "      <th>weekday</th>\n",
       "      <th>workingday</th>\n",
       "      <th>weathersit</th>\n",
       "      <th>temp</th>\n",
       "      <th>hum</th>\n",
       "      <th>windspeed</th>\n",
       "      <th>casual</th>\n",
       "      <th>registered</th>\n",
       "      <th>days_since_01_01_2011</th>\n",
       "    </tr>\n",
       "  </thead>\n",
       "  <tbody>\n",
       "    <tr>\n",
       "      <th>0</th>\n",
       "      <td>1.0</td>\n",
       "      <td>0.0</td>\n",
       "      <td>1.0</td>\n",
       "      <td>0.0</td>\n",
       "      <td>6.0</td>\n",
       "      <td>0.0</td>\n",
       "      <td>2.0</td>\n",
       "      <td>8.175849</td>\n",
       "      <td>0.805833</td>\n",
       "      <td>0.160446</td>\n",
       "      <td>331.0</td>\n",
       "      <td>654.0</td>\n",
       "      <td>0.0</td>\n",
       "    </tr>\n",
       "    <tr>\n",
       "      <th>1</th>\n",
       "      <td>1.0</td>\n",
       "      <td>0.0</td>\n",
       "      <td>1.0</td>\n",
       "      <td>0.0</td>\n",
       "      <td>0.0</td>\n",
       "      <td>0.0</td>\n",
       "      <td>2.0</td>\n",
       "      <td>9.083466</td>\n",
       "      <td>0.696087</td>\n",
       "      <td>0.248539</td>\n",
       "      <td>131.0</td>\n",
       "      <td>670.0</td>\n",
       "      <td>1.0</td>\n",
       "    </tr>\n",
       "    <tr>\n",
       "      <th>2</th>\n",
       "      <td>1.0</td>\n",
       "      <td>0.0</td>\n",
       "      <td>1.0</td>\n",
       "      <td>0.0</td>\n",
       "      <td>1.0</td>\n",
       "      <td>1.0</td>\n",
       "      <td>1.0</td>\n",
       "      <td>1.229108</td>\n",
       "      <td>0.437273</td>\n",
       "      <td>0.248309</td>\n",
       "      <td>120.0</td>\n",
       "      <td>1229.0</td>\n",
       "      <td>2.0</td>\n",
       "    </tr>\n",
       "    <tr>\n",
       "      <th>3</th>\n",
       "      <td>1.0</td>\n",
       "      <td>0.0</td>\n",
       "      <td>1.0</td>\n",
       "      <td>0.0</td>\n",
       "      <td>2.0</td>\n",
       "      <td>1.0</td>\n",
       "      <td>1.0</td>\n",
       "      <td>1.400000</td>\n",
       "      <td>0.590435</td>\n",
       "      <td>0.160296</td>\n",
       "      <td>108.0</td>\n",
       "      <td>1454.0</td>\n",
       "      <td>3.0</td>\n",
       "    </tr>\n",
       "    <tr>\n",
       "      <th>4</th>\n",
       "      <td>1.0</td>\n",
       "      <td>0.0</td>\n",
       "      <td>1.0</td>\n",
       "      <td>0.0</td>\n",
       "      <td>3.0</td>\n",
       "      <td>1.0</td>\n",
       "      <td>1.0</td>\n",
       "      <td>2.666979</td>\n",
       "      <td>0.436957</td>\n",
       "      <td>0.186900</td>\n",
       "      <td>82.0</td>\n",
       "      <td>1518.0</td>\n",
       "      <td>4.0</td>\n",
       "    </tr>\n",
       "    <tr>\n",
       "      <th>...</th>\n",
       "      <td>...</td>\n",
       "      <td>...</td>\n",
       "      <td>...</td>\n",
       "      <td>...</td>\n",
       "      <td>...</td>\n",
       "      <td>...</td>\n",
       "      <td>...</td>\n",
       "      <td>...</td>\n",
       "      <td>...</td>\n",
       "      <td>...</td>\n",
       "      <td>...</td>\n",
       "      <td>...</td>\n",
       "      <td>...</td>\n",
       "    </tr>\n",
       "    <tr>\n",
       "      <th>726</th>\n",
       "      <td>1.0</td>\n",
       "      <td>1.0</td>\n",
       "      <td>12.0</td>\n",
       "      <td>0.0</td>\n",
       "      <td>4.0</td>\n",
       "      <td>1.0</td>\n",
       "      <td>2.0</td>\n",
       "      <td>3.945849</td>\n",
       "      <td>0.652917</td>\n",
       "      <td>0.350133</td>\n",
       "      <td>247.0</td>\n",
       "      <td>1867.0</td>\n",
       "      <td>726.0</td>\n",
       "    </tr>\n",
       "    <tr>\n",
       "      <th>727</th>\n",
       "      <td>1.0</td>\n",
       "      <td>1.0</td>\n",
       "      <td>12.0</td>\n",
       "      <td>0.0</td>\n",
       "      <td>5.0</td>\n",
       "      <td>1.0</td>\n",
       "      <td>2.0</td>\n",
       "      <td>3.906651</td>\n",
       "      <td>0.590000</td>\n",
       "      <td>0.155471</td>\n",
       "      <td>644.0</td>\n",
       "      <td>2451.0</td>\n",
       "      <td>727.0</td>\n",
       "    </tr>\n",
       "    <tr>\n",
       "      <th>728</th>\n",
       "      <td>1.0</td>\n",
       "      <td>1.0</td>\n",
       "      <td>12.0</td>\n",
       "      <td>0.0</td>\n",
       "      <td>6.0</td>\n",
       "      <td>0.0</td>\n",
       "      <td>2.0</td>\n",
       "      <td>3.906651</td>\n",
       "      <td>0.752917</td>\n",
       "      <td>0.124383</td>\n",
       "      <td>159.0</td>\n",
       "      <td>1182.0</td>\n",
       "      <td>728.0</td>\n",
       "    </tr>\n",
       "    <tr>\n",
       "      <th>729</th>\n",
       "      <td>1.0</td>\n",
       "      <td>1.0</td>\n",
       "      <td>12.0</td>\n",
       "      <td>0.0</td>\n",
       "      <td>0.0</td>\n",
       "      <td>0.0</td>\n",
       "      <td>1.0</td>\n",
       "      <td>4.024151</td>\n",
       "      <td>0.483333</td>\n",
       "      <td>0.350754</td>\n",
       "      <td>364.0</td>\n",
       "      <td>1432.0</td>\n",
       "      <td>729.0</td>\n",
       "    </tr>\n",
       "    <tr>\n",
       "      <th>730</th>\n",
       "      <td>1.0</td>\n",
       "      <td>1.0</td>\n",
       "      <td>12.0</td>\n",
       "      <td>0.0</td>\n",
       "      <td>1.0</td>\n",
       "      <td>1.0</td>\n",
       "      <td>2.0</td>\n",
       "      <td>2.144151</td>\n",
       "      <td>0.577500</td>\n",
       "      <td>0.154846</td>\n",
       "      <td>439.0</td>\n",
       "      <td>2290.0</td>\n",
       "      <td>730.0</td>\n",
       "    </tr>\n",
       "  </tbody>\n",
       "</table>\n",
       "<p>731 rows × 13 columns</p>\n",
       "</div>"
      ],
      "text/plain": [
       "     season   yr  mnth  holiday  weekday  workingday  weathersit      temp  \\\n",
       "0       1.0  0.0   1.0      0.0      6.0         0.0         2.0  8.175849   \n",
       "1       1.0  0.0   1.0      0.0      0.0         0.0         2.0  9.083466   \n",
       "2       1.0  0.0   1.0      0.0      1.0         1.0         1.0  1.229108   \n",
       "3       1.0  0.0   1.0      0.0      2.0         1.0         1.0  1.400000   \n",
       "4       1.0  0.0   1.0      0.0      3.0         1.0         1.0  2.666979   \n",
       "..      ...  ...   ...      ...      ...         ...         ...       ...   \n",
       "726     1.0  1.0  12.0      0.0      4.0         1.0         2.0  3.945849   \n",
       "727     1.0  1.0  12.0      0.0      5.0         1.0         2.0  3.906651   \n",
       "728     1.0  1.0  12.0      0.0      6.0         0.0         2.0  3.906651   \n",
       "729     1.0  1.0  12.0      0.0      0.0         0.0         1.0  4.024151   \n",
       "730     1.0  1.0  12.0      0.0      1.0         1.0         2.0  2.144151   \n",
       "\n",
       "          hum  windspeed  casual  registered  days_since_01_01_2011  \n",
       "0    0.805833   0.160446   331.0       654.0                    0.0  \n",
       "1    0.696087   0.248539   131.0       670.0                    1.0  \n",
       "2    0.437273   0.248309   120.0      1229.0                    2.0  \n",
       "3    0.590435   0.160296   108.0      1454.0                    3.0  \n",
       "4    0.436957   0.186900    82.0      1518.0                    4.0  \n",
       "..        ...        ...     ...         ...                    ...  \n",
       "726  0.652917   0.350133   247.0      1867.0                  726.0  \n",
       "727  0.590000   0.155471   644.0      2451.0                  727.0  \n",
       "728  0.752917   0.124383   159.0      1182.0                  728.0  \n",
       "729  0.483333   0.350754   364.0      1432.0                  729.0  \n",
       "730  0.577500   0.154846   439.0      2290.0                  730.0  \n",
       "\n",
       "[731 rows x 13 columns]"
      ]
     },
     "execution_count": 13,
     "metadata": {},
     "output_type": "execute_result"
    }
   ],
   "source": [
    "X"
   ]
  },
  {
   "cell_type": "markdown",
   "metadata": {
    "tags": []
   },
   "source": [
    "### 1.1.1 Fitting a Random Forest Regressor"
   ]
  },
  {
   "cell_type": "code",
   "execution_count": 14,
   "metadata": {
    "tags": []
   },
   "outputs": [
    {
     "name": "stderr",
     "output_type": "stream",
     "text": [
      "/var/folders/n0/xwj_9ncd7g73tqw_y2p2zsw40000gn/T/ipykernel_30167/1396578033.py:5: DataConversionWarning: A column-vector y was passed when a 1d array was expected. Please change the shape of y to (n_samples,), for example using ravel().\n",
      "  clf.fit(X, y)\n"
     ]
    },
    {
     "data": {
      "text/plain": [
       "RandomForestRegressor()"
      ]
     },
     "execution_count": 14,
     "metadata": {},
     "output_type": "execute_result"
    }
   ],
   "source": [
    "from sklearn.ensemble import RandomForestRegressor\n",
    "\n",
    "clf = RandomForestRegressor()\n",
    "\n",
    "clf.fit(X, y)"
   ]
  },
  {
   "cell_type": "code",
   "execution_count": 15,
   "metadata": {
    "tags": []
   },
   "outputs": [
    {
     "data": {
      "text/plain": [
       "0.9995676029702923"
      ]
     },
     "execution_count": 15,
     "metadata": {},
     "output_type": "execute_result"
    }
   ],
   "source": [
    "clf.score(X, y)"
   ]
  },
  {
   "cell_type": "markdown",
   "metadata": {
    "tags": []
   },
   "source": [
    "#### Q: What is that score? You may want to check the documentation"
   ]
  },
  {
   "cell_type": "markdown",
   "metadata": {
    "tags": []
   },
   "source": [
    "### 1.1.2 Looking for correlations in the data"
   ]
  },
  {
   "cell_type": "code",
   "execution_count": 16,
   "metadata": {
    "tags": []
   },
   "outputs": [
    {
     "name": "stdout",
     "output_type": "stream",
     "text": [
      "FeatureModel(cnt ~ -1 + season + yr + mnth + holiday + weekday + workingday + weathersit + temp + hum + windspeed + casual + registered + days_since_01_01_2011 + cnt )\n"
     ]
    }
   ],
   "source": [
    "bike_data.add_feature(\"cnt\")\n",
    "X, _ = bike_data.return_Xy()"
   ]
  },
  {
   "cell_type": "code",
   "execution_count": 17,
   "metadata": {
    "tags": []
   },
   "outputs": [],
   "source": [
    "sns.set(font_scale = 2)\n",
    "\n",
    "def correlation_heatmap(X, size=5):\n",
    "    fig, ax = plt.subplots(figsize=((size+1)*2,size*2))    \n",
    "    sns.heatmap(np.corrcoef(X.transpose()), cmap=\"coolwarm\", linewidth=0.5, xticklabels=X.columns, yticklabels=X.columns, ax=ax, vmin=-1, vmax=1)"
   ]
  },
  {
   "cell_type": "code",
   "execution_count": 18,
   "metadata": {
    "tags": []
   },
   "outputs": [
    {
     "data": {
      "image/png": "[encoded data removed]",
      "text/plain": [
       "<Figure size 1200x1000 with 2 Axes>"
      ]
     },
     "metadata": {},
     "output_type": "display_data"
    }
   ],
   "source": [
    "correlation_heatmap(X)"
   ]
  },
  {
   "cell_type": "markdown",
   "metadata": {
    "tags": []
   },
   "source": [
    "### 1.2.1 The intercept term\n",
    "Without intercept term a e.g. linear model can not compensate for a target with a shifted mean value / mean value different to zero"
   ]
  },
  {
   "cell_type": "code",
   "execution_count": 19,
   "metadata": {
    "tags": []
   },
   "outputs": [
    {
     "name": "stdout",
     "output_type": "stream",
     "text": [
      "FeatureModel(->Not fully specified yet!)\n",
      "FeatureModel(cnt ~ -1 + temp )\n",
      "FeatureModel(cnt ~ -1 + temp + days_since_01_01_2011 )\n",
      "FeatureModel(cnt ~ -1 + temp + days_since_01_01_2011 + workingday )\n"
     ]
    }
   ],
   "source": [
    "bike_data = FeatureModel(\"datasets/bike/rented_bikes_day_pre.csv\")\n",
    "bike_data.add_target(\"cnt\")\n",
    "bike_data.add_feature(\"temp\")\n",
    "bike_data.add_feature(\"days_since_01_01_2011\")\n",
    "bike_data.add_feature(\"workingday\")\n",
    "X, y = bike_data.return_Xy()"
   ]
  },
  {
   "cell_type": "code",
   "execution_count": 20,
   "metadata": {
    "tags": []
   },
   "outputs": [
    {
     "data": {
      "text/plain": [
       "cnt    4504.348837\n",
       "dtype: float64"
      ]
     },
     "execution_count": 20,
     "metadata": {},
     "output_type": "execute_result"
    }
   ],
   "source": [
    "y.mean()"
   ]
  },
  {
   "cell_type": "code",
   "execution_count": 21,
   "metadata": {
    "tags": []
   },
   "outputs": [
    {
     "data": {
      "text/plain": [
       "LinearRegression(fit_intercept=False)"
      ]
     },
     "execution_count": 21,
     "metadata": {},
     "output_type": "execute_result"
    }
   ],
   "source": [
    "from sklearn.linear_model import LinearRegression\n",
    "\n",
    "regr = LinearRegression(fit_intercept=False)\n",
    "regr.fit(X, y)"
   ]
  },
  {
   "cell_type": "code",
   "execution_count": 22,
   "metadata": {
    "tags": []
   },
   "outputs": [
    {
     "data": {
      "text/plain": [
       "array([[136.86706091,   5.62727525, 400.49536081]])"
      ]
     },
     "execution_count": 22,
     "metadata": {},
     "output_type": "execute_result"
    }
   ],
   "source": [
    "regr.coef_"
   ]
  },
  {
   "cell_type": "code",
   "execution_count": 23,
   "metadata": {
    "tags": []
   },
   "outputs": [
    {
     "data": {
      "text/plain": [
       "Index(['temp', 'days_since_01_01_2011', 'workingday'], dtype='object')"
      ]
     },
     "execution_count": 23,
     "metadata": {},
     "output_type": "execute_result"
    }
   ],
   "source": [
    "X.columns"
   ]
  },
  {
   "cell_type": "code",
   "execution_count": 24,
   "metadata": {
    "tags": []
   },
   "outputs": [
    {
     "name": "stdout",
     "output_type": "stream",
     "text": [
      "[[136.86706091   5.62727525 400.49536081]]\n"
     ]
    }
   ],
   "source": [
    "X, y = bike_data.return_Xy()\n",
    "regr.fit(X, y)\n",
    "print(regr.coef_)"
   ]
  },
  {
   "cell_type": "markdown",
   "metadata": {
    "tags": []
   },
   "source": [
    "### 1.2.2 Rescaling and shifting numerical features"
   ]
  },
  {
   "cell_type": "code",
   "execution_count": 25,
   "metadata": {
    "tags": []
   },
   "outputs": [],
   "source": [
    "def center_temp(df):\n",
    "    df.temp = df.temp - df.temp.mean()\n",
    "    return df \n",
    "    \n",
    "X, y = bike_data.return_Xy(transform_before=center_temp)"
   ]
  },
  {
   "cell_type": "code",
   "execution_count": 26,
   "metadata": {
    "tags": []
   },
   "outputs": [
    {
     "name": "stdout",
     "output_type": "stream",
     "text": [
      "[[ 105.77855817    8.4828651  1461.29911006]]\n"
     ]
    }
   ],
   "source": [
    "regr.fit(X, y)\n",
    "print(regr.coef_)"
   ]
  },
  {
   "cell_type": "markdown",
   "metadata": {},
   "source": [
    "Notice how only the intercept term changed\n",
    "\n",
    "Q: \n",
    "- What does this intercept value now mean / reflect? \n",
    "- What did the intercept value before centering the temperature feature?\n",
    "\n",
    "Q: \n",
    "- What does the temperature weight mean? \n",
    "- When interpreting the weight what are you assuming? \n",
    "- Is your assumption justified, how could you check (at least an important part that underlies the assumption)? Hint: Correlations"
   ]
  },
  {
   "cell_type": "code",
   "execution_count": 27,
   "metadata": {
    "tags": []
   },
   "outputs": [],
   "source": [
    "def standardize_temp(df):\n",
    "    df.temp = (df.temp - df.temp.mean())/df.temp.std()\n",
    "    return df \n",
    "    \n",
    "X, y = bike_data.return_Xy(transform_before=standardize_temp)"
   ]
  },
  {
   "cell_type": "code",
   "execution_count": 28,
   "metadata": {
    "tags": []
   },
   "outputs": [
    {
     "name": "stdout",
     "output_type": "stream",
     "text": [
      "[[ 910.05491069    8.4828651  1461.29911006]]\n"
     ]
    }
   ],
   "source": [
    "regr.fit(X, y)\n",
    "print(regr.coef_)"
   ]
  },
  {
   "cell_type": "markdown",
   "metadata": {},
   "source": [
    "Q: What is the ratio between the temperature weight before and after standardize?\n",
    "\n",
    "Q: After standardising numerical features. Is it easier to interpret the weights individually? Is it easier to compare the magnitude of weights to other weigths?"
   ]
  },
  {
   "cell_type": "markdown",
   "metadata": {},
   "source": [
    "Q: How to obtain a probabilistic estimate of weights?"
   ]
  },
  {
   "cell_type": "code",
   "execution_count": 29,
   "metadata": {
    "tags": []
   },
   "outputs": [],
   "source": [
    "import statsmodels.api as sm"
   ]
  },
  {
   "cell_type": "code",
   "execution_count": 30,
   "metadata": {
    "tags": []
   },
   "outputs": [],
   "source": [
    "sm_model = sm.OLS(y, X)"
   ]
  },
  {
   "cell_type": "code",
   "execution_count": 31,
   "metadata": {
    "tags": []
   },
   "outputs": [],
   "source": [
    "results = sm_model.fit()"
   ]
  },
  {
   "cell_type": "code",
   "execution_count": 32,
   "metadata": {
    "tags": []
   },
   "outputs": [
    {
     "data": {
      "text/html": [
       "<table class=\"simpletable\">\n",
       "<caption>OLS Regression Results</caption>\n",
       "<tr>\n",
       "  <th>Dep. Variable:</th>           <td>cnt</td>       <th>  R-squared (uncentered):</th>      <td>   0.907</td> \n",
       "</tr>\n",
       "<tr>\n",
       "  <th>Model:</th>                   <td>OLS</td>       <th>  Adj. R-squared (uncentered):</th> <td>   0.907</td> \n",
       "</tr>\n",
       "<tr>\n",
       "  <th>Method:</th>             <td>Least Squares</td>  <th>  F-statistic:       </th>          <td>   2380.</td> \n",
       "</tr>\n",
       "<tr>\n",
       "  <th>Date:</th>             <td>Sun, 14 May 2023</td> <th>  Prob (F-statistic):</th>           <td>  0.00</td>  \n",
       "</tr>\n",
       "<tr>\n",
       "  <th>Time:</th>                 <td>19:15:23</td>     <th>  Log-Likelihood:    </th>          <td> -6378.9</td> \n",
       "</tr>\n",
       "<tr>\n",
       "  <th>No. Observations:</th>      <td>   731</td>      <th>  AIC:               </th>          <td>1.276e+04</td>\n",
       "</tr>\n",
       "<tr>\n",
       "  <th>Df Residuals:</th>          <td>   728</td>      <th>  BIC:               </th>          <td>1.278e+04</td>\n",
       "</tr>\n",
       "<tr>\n",
       "  <th>Df Model:</th>              <td>     3</td>      <th>                     </th>              <td> </td>    \n",
       "</tr>\n",
       "<tr>\n",
       "  <th>Covariance Type:</th>      <td>nonrobust</td>    <th>                     </th>              <td> </td>    \n",
       "</tr>\n",
       "</table>\n",
       "<table class=\"simpletable\">\n",
       "<tr>\n",
       "            <td></td>               <th>coef</th>     <th>std err</th>      <th>t</th>      <th>P>|t|</th>  <th>[0.025</th>    <th>0.975]</th>  \n",
       "</tr>\n",
       "<tr>\n",
       "  <th>temp</th>                  <td>  910.0549</td> <td>   55.498</td> <td>   16.398</td> <td> 0.000</td> <td>  801.100</td> <td> 1019.010</td>\n",
       "</tr>\n",
       "<tr>\n",
       "  <th>days_since_01_01_2011</th> <td>    8.4829</td> <td>    0.188</td> <td>   45.120</td> <td> 0.000</td> <td>    8.114</td> <td>    8.852</td>\n",
       "</tr>\n",
       "<tr>\n",
       "  <th>workingday</th>            <td> 1461.2991</td> <td>   95.613</td> <td>   15.284</td> <td> 0.000</td> <td> 1273.590</td> <td> 1649.009</td>\n",
       "</tr>\n",
       "</table>\n",
       "<table class=\"simpletable\">\n",
       "<tr>\n",
       "  <th>Omnibus:</th>       <td>71.671</td> <th>  Durbin-Watson:     </th> <td>   0.734</td>\n",
       "</tr>\n",
       "<tr>\n",
       "  <th>Prob(Omnibus):</th> <td> 0.000</td> <th>  Jarque-Bera (JB):  </th> <td> 139.116</td>\n",
       "</tr>\n",
       "<tr>\n",
       "  <th>Skew:</th>          <td>-0.608</td> <th>  Prob(JB):          </th> <td>6.18e-31</td>\n",
       "</tr>\n",
       "<tr>\n",
       "  <th>Kurtosis:</th>      <td> 4.758</td> <th>  Cond. No.          </th> <td>    730.</td>\n",
       "</tr>\n",
       "</table><br/><br/>Notes:<br/>[1] R² is computed without centering (uncentered) since the model does not contain a constant.<br/>[2] Standard Errors assume that the covariance matrix of the errors is correctly specified."
      ],
      "text/plain": [
       "<class 'statsmodels.iolib.summary.Summary'>\n",
       "\"\"\"\n",
       "                                 OLS Regression Results                                \n",
       "=======================================================================================\n",
       "Dep. Variable:                    cnt   R-squared (uncentered):                   0.907\n",
       "Model:                            OLS   Adj. R-squared (uncentered):              0.907\n",
       "Method:                 Least Squares   F-statistic:                              2380.\n",
       "Date:                Sun, 14 May 2023   Prob (F-statistic):                        0.00\n",
       "Time:                        19:15:23   Log-Likelihood:                         -6378.9\n",
       "No. Observations:                 731   AIC:                                  1.276e+04\n",
       "Df Residuals:                     728   BIC:                                  1.278e+04\n",
       "Df Model:                           3                                                  \n",
       "Covariance Type:            nonrobust                                                  \n",
       "=========================================================================================\n",
       "                            coef    std err          t      P>|t|      [0.025      0.975]\n",
       "-----------------------------------------------------------------------------------------\n",
       "temp                    910.0549     55.498     16.398      0.000     801.100    1019.010\n",
       "days_since_01_01_2011     8.4829      0.188     45.120      0.000       8.114       8.852\n",
       "workingday             1461.2991     95.613     15.284      0.000    1273.590    1649.009\n",
       "==============================================================================\n",
       "Omnibus:                       71.671   Durbin-Watson:                   0.734\n",
       "Prob(Omnibus):                  0.000   Jarque-Bera (JB):              139.116\n",
       "Skew:                          -0.608   Prob(JB):                     6.18e-31\n",
       "Kurtosis:                       4.758   Cond. No.                         730.\n",
       "==============================================================================\n",
       "\n",
       "Notes:\n",
       "[1] R² is computed without centering (uncentered) since the model does not contain a constant.\n",
       "[2] Standard Errors assume that the covariance matrix of the errors is correctly specified.\n",
       "\"\"\""
      ]
     },
     "execution_count": 32,
     "metadata": {},
     "output_type": "execute_result"
    }
   ],
   "source": [
    "results.summary()"
   ]
  },
  {
   "cell_type": "markdown",
   "metadata": {
    "tags": []
   },
   "source": [
    "### 1.2.3 Encoding categorical features"
   ]
  },
  {
   "cell_type": "code",
   "execution_count": 33,
   "metadata": {
    "tags": []
   },
   "outputs": [
    {
     "data": {
      "text/plain": [
       "Index(['season', 'yr', 'mnth', 'holiday', 'weekday', 'workingday',\n",
       "       'weathersit', 'temp', 'hum', 'windspeed', 'casual', 'registered', 'cnt',\n",
       "       'days_since_01_01_2011'],\n",
       "      dtype='object')"
      ]
     },
     "execution_count": 33,
     "metadata": {},
     "output_type": "execute_result"
    }
   ],
   "source": [
    "bike_data.df.columns"
   ]
  },
  {
   "cell_type": "code",
   "execution_count": 34,
   "metadata": {
    "tags": []
   },
   "outputs": [],
   "source": [
    "def winter(season):\n",
    "    return (season==1).astype(int)\n",
    "\n",
    "def spring(season):\n",
    "    return (season==2).astype(int)\n",
    "\n",
    "def summer(season):\n",
    "    return (season==3).astype(int)"
   ]
  },
  {
   "cell_type": "code",
   "execution_count": 35,
   "metadata": {
    "tags": []
   },
   "outputs": [
    {
     "name": "stdout",
     "output_type": "stream",
     "text": [
      "FeatureModel(cnt ~ -1 + temp + days_since_01_01_2011 + workingday + winter(season) )\n",
      "FeatureModel(cnt ~ -1 + temp + days_since_01_01_2011 + workingday + winter(season) + spring(season) )\n",
      "FeatureModel(cnt ~ -1 + temp + days_since_01_01_2011 + workingday + winter(season) + spring(season) + summer(season) )\n"
     ]
    }
   ],
   "source": [
    "bike_data.add_function_feature(winter, \"season\")\n",
    "bike_data.add_function_feature(spring, \"season\")\n",
    "bike_data.add_function_feature(summer, \"season\")"
   ]
  },
  {
   "cell_type": "code",
   "execution_count": 36,
   "metadata": {
    "tags": []
   },
   "outputs": [],
   "source": [
    "X, y = bike_data.return_Xy()"
   ]
  },
  {
   "cell_type": "code",
   "execution_count": 37,
   "metadata": {
    "tags": []
   },
   "outputs": [
    {
     "data": {
      "text/html": [
       "<div>\n",
       "<style scoped>\n",
       "    .dataframe tbody tr th:only-of-type {\n",
       "        vertical-align: middle;\n",
       "    }\n",
       "\n",
       "    .dataframe tbody tr th {\n",
       "        vertical-align: top;\n",
       "    }\n",
       "\n",
       "    .dataframe thead th {\n",
       "        text-align: right;\n",
       "    }\n",
       "</style>\n",
       "<table border=\"1\" class=\"dataframe\">\n",
       "  <thead>\n",
       "    <tr style=\"text-align: right;\">\n",
       "      <th></th>\n",
       "      <th>temp</th>\n",
       "      <th>days_since_01_01_2011</th>\n",
       "      <th>workingday</th>\n",
       "      <th>winter(season)</th>\n",
       "      <th>spring(season)</th>\n",
       "      <th>summer(season)</th>\n",
       "    </tr>\n",
       "  </thead>\n",
       "  <tbody>\n",
       "    <tr>\n",
       "      <th>0</th>\n",
       "      <td>8.175849</td>\n",
       "      <td>0.0</td>\n",
       "      <td>0.0</td>\n",
       "      <td>1.0</td>\n",
       "      <td>0.0</td>\n",
       "      <td>0.0</td>\n",
       "    </tr>\n",
       "    <tr>\n",
       "      <th>1</th>\n",
       "      <td>9.083466</td>\n",
       "      <td>1.0</td>\n",
       "      <td>0.0</td>\n",
       "      <td>1.0</td>\n",
       "      <td>0.0</td>\n",
       "      <td>0.0</td>\n",
       "    </tr>\n",
       "    <tr>\n",
       "      <th>2</th>\n",
       "      <td>1.229108</td>\n",
       "      <td>2.0</td>\n",
       "      <td>1.0</td>\n",
       "      <td>1.0</td>\n",
       "      <td>0.0</td>\n",
       "      <td>0.0</td>\n",
       "    </tr>\n",
       "    <tr>\n",
       "      <th>3</th>\n",
       "      <td>1.400000</td>\n",
       "      <td>3.0</td>\n",
       "      <td>1.0</td>\n",
       "      <td>1.0</td>\n",
       "      <td>0.0</td>\n",
       "      <td>0.0</td>\n",
       "    </tr>\n",
       "    <tr>\n",
       "      <th>4</th>\n",
       "      <td>2.666979</td>\n",
       "      <td>4.0</td>\n",
       "      <td>1.0</td>\n",
       "      <td>1.0</td>\n",
       "      <td>0.0</td>\n",
       "      <td>0.0</td>\n",
       "    </tr>\n",
       "    <tr>\n",
       "      <th>...</th>\n",
       "      <td>...</td>\n",
       "      <td>...</td>\n",
       "      <td>...</td>\n",
       "      <td>...</td>\n",
       "      <td>...</td>\n",
       "      <td>...</td>\n",
       "    </tr>\n",
       "    <tr>\n",
       "      <th>726</th>\n",
       "      <td>3.945849</td>\n",
       "      <td>726.0</td>\n",
       "      <td>1.0</td>\n",
       "      <td>1.0</td>\n",
       "      <td>0.0</td>\n",
       "      <td>0.0</td>\n",
       "    </tr>\n",
       "    <tr>\n",
       "      <th>727</th>\n",
       "      <td>3.906651</td>\n",
       "      <td>727.0</td>\n",
       "      <td>1.0</td>\n",
       "      <td>1.0</td>\n",
       "      <td>0.0</td>\n",
       "      <td>0.0</td>\n",
       "    </tr>\n",
       "    <tr>\n",
       "      <th>728</th>\n",
       "      <td>3.906651</td>\n",
       "      <td>728.0</td>\n",
       "      <td>0.0</td>\n",
       "      <td>1.0</td>\n",
       "      <td>0.0</td>\n",
       "      <td>0.0</td>\n",
       "    </tr>\n",
       "    <tr>\n",
       "      <th>729</th>\n",
       "      <td>4.024151</td>\n",
       "      <td>729.0</td>\n",
       "      <td>0.0</td>\n",
       "      <td>1.0</td>\n",
       "      <td>0.0</td>\n",
       "      <td>0.0</td>\n",
       "    </tr>\n",
       "    <tr>\n",
       "      <th>730</th>\n",
       "      <td>2.144151</td>\n",
       "      <td>730.0</td>\n",
       "      <td>1.0</td>\n",
       "      <td>1.0</td>\n",
       "      <td>0.0</td>\n",
       "      <td>0.0</td>\n",
       "    </tr>\n",
       "  </tbody>\n",
       "</table>\n",
       "<p>731 rows × 6 columns</p>\n",
       "</div>"
      ],
      "text/plain": [
       "         temp  days_since_01_01_2011  workingday  winter(season)  \\\n",
       "0    8.175849                    0.0         0.0             1.0   \n",
       "1    9.083466                    1.0         0.0             1.0   \n",
       "2    1.229108                    2.0         1.0             1.0   \n",
       "3    1.400000                    3.0         1.0             1.0   \n",
       "4    2.666979                    4.0         1.0             1.0   \n",
       "..        ...                    ...         ...             ...   \n",
       "726  3.945849                  726.0         1.0             1.0   \n",
       "727  3.906651                  727.0         1.0             1.0   \n",
       "728  3.906651                  728.0         0.0             1.0   \n",
       "729  4.024151                  729.0         0.0             1.0   \n",
       "730  2.144151                  730.0         1.0             1.0   \n",
       "\n",
       "     spring(season)  summer(season)  \n",
       "0               0.0             0.0  \n",
       "1               0.0             0.0  \n",
       "2               0.0             0.0  \n",
       "3               0.0             0.0  \n",
       "4               0.0             0.0  \n",
       "..              ...             ...  \n",
       "726             0.0             0.0  \n",
       "727             0.0             0.0  \n",
       "728             0.0             0.0  \n",
       "729             0.0             0.0  \n",
       "730             0.0             0.0  \n",
       "\n",
       "[731 rows x 6 columns]"
      ]
     },
     "execution_count": 37,
     "metadata": {},
     "output_type": "execute_result"
    }
   ],
   "source": [
    "X"
   ]
  },
  {
   "cell_type": "markdown",
   "metadata": {},
   "source": [
    "Q: Why do you not need a fourth category for season=fall? Hint: Think about what the intercept term now means / for what category it stands for"
   ]
  },
  {
   "cell_type": "code",
   "execution_count": 38,
   "metadata": {
    "tags": []
   },
   "outputs": [
    {
     "data": {
      "image/png": "[encoded data removed]",
      "text/plain": [
       "<Figure size 1200x1000 with 2 Axes>"
      ]
     },
     "metadata": {},
     "output_type": "display_data"
    }
   ],
   "source": [
    "correlation_heatmap(X)"
   ]
  },
  {
   "cell_type": "code",
   "execution_count": 39,
   "metadata": {
    "tags": []
   },
   "outputs": [],
   "source": [
    "from sklearn.linear_model import Lasso"
   ]
  },
  {
   "cell_type": "code",
   "execution_count": 40,
   "metadata": {
    "tags": []
   },
   "outputs": [],
   "source": [
    "clf = Lasso(random_state=1, fit_intercept=False, alpha=1.0)"
   ]
  },
  {
   "cell_type": "code",
   "execution_count": 41,
   "metadata": {
    "tags": []
   },
   "outputs": [
    {
     "data": {
      "text/plain": [
       "Lasso(fit_intercept=False, random_state=1)"
      ]
     },
     "execution_count": 41,
     "metadata": {},
     "output_type": "execute_result"
    }
   ],
   "source": [
    "clf.fit(X, y)"
   ]
  },
  {
   "cell_type": "code",
   "execution_count": 42,
   "metadata": {
    "tags": []
   },
   "outputs": [
    {
     "data": {
      "text/plain": [
       "Index(['temp', 'days_since_01_01_2011', 'workingday', 'winter(season)',\n",
       "       'spring(season)', 'summer(season)'],\n",
       "      dtype='object')"
      ]
     },
     "execution_count": 42,
     "metadata": {},
     "output_type": "execute_result"
    }
   ],
   "source": [
    "X.columns"
   ]
  },
  {
   "cell_type": "code",
   "execution_count": 43,
   "metadata": {
    "tags": []
   },
   "outputs": [
    {
     "data": {
      "text/plain": [
       "array([ 133.03203316,    5.66689998,  267.99086363,  142.06528998,\n",
       "        719.71851607, -160.08687953])"
      ]
     },
     "execution_count": 43,
     "metadata": {},
     "output_type": "execute_result"
    }
   ],
   "source": [
    "clf.coef_"
   ]
  },
  {
   "cell_type": "markdown",
   "metadata": {},
   "source": [
    "Q: Look at the coefficient of the `is_summer` feature, can you interpret it as: **compared to `is_fall` people tend to rent 120 bikes less**? Why is that problematic? Hint: What is high in the summer?"
   ]
  },
  {
   "cell_type": "markdown",
   "metadata": {},
   "source": [
    "# Homework"
   ]
  },
  {
   "cell_type": "markdown",
   "metadata": {
    "tags": []
   },
   "source": [
    "## 1.1 \n",
    "Create a function that receives a boolean `standardize` and returns a tuple `X,y` where\n",
    "- y: is the number of rented bikes for a day\n",
    "- X: is the temperature of that day, the windspeed, the days since 01.01.2011, and the humidity. Finally, there should also be an intercept term. If `standardize` is `True`, then X should be standardized"
   ]
  },
  {
   "cell_type": "code",
   "execution_count": 44,
   "metadata": {
    "tags": []
   },
   "outputs": [
    {
     "data": {
      "text/plain": [
       "Index(['season', 'yr', 'mnth', 'holiday', 'weekday', 'workingday',\n",
       "       'weathersit', 'temp', 'hum', 'windspeed', 'casual', 'registered', 'cnt',\n",
       "       'days_since_01_01_2011'],\n",
       "      dtype='object')"
      ]
     },
     "execution_count": 44,
     "metadata": {},
     "output_type": "execute_result"
    }
   ],
   "source": [
    "bike_data.df.columns"
   ]
  },
  {
   "cell_type": "code",
   "execution_count": 45,
   "metadata": {
    "tags": []
   },
   "outputs": [],
   "source": [
    "def ex_1_1(standardize: bool) -> tuple[np.array, np.array]:\n",
    "    \n",
    "    with contextlib.redirect_stdout(None):\n",
    "        # in here nothing gets printed\n",
    "        bike_data = FeatureModel(\"datasets/bike/rented_bikes_day_pre.csv\")\n",
    "        bike_data.add_target(\"cnt\")\n",
    "        bike_data.add_feature(\"temp\")\n",
    "        bike_data.add_feature(\"windspeed\")\n",
    "        bike_data.add_feature(\"days_since_01_01_2011\")\n",
    "        bike_data.add_feature(\"hum\")\n",
    "        bike_data.intercept = True\n",
    "        \n",
    "    def standardize_fun(df):\n",
    "        from sklearn.preprocessing import StandardScaler\n",
    "        if standardize:\n",
    "            scaler = StandardScaler()\n",
    "            df[['temp', 'windspeed', 'days_since_01_01_2011', 'hum']] = scaler.fit_transform(df[['temp', 'windspeed', 'days_since_01_01_2011', 'hum']])\n",
    "        \n",
    "        return df \n",
    "    \n",
    "    return bike_data.return_Xy(transform_before=standardize_fun if standardize else None)\n"
   ]
  },
  {
   "cell_type": "code",
   "execution_count": 45,
   "metadata": {
    "tags": []
   },
   "outputs": [],
   "source": [
    "def ex_1_1(standardize: bool) -> tuple[np.array, np.array]:\n",
    "    \n",
    "    with contextlib.redirect_stdout(None):\n",
    "        # in here nothing gets printed\n",
    "        bike_data = FeatureModel(\"datasets/bike/rented_bikes_day_pre.csv\")\n",
    "        bike_data.add_target(\"cnt\")\n",
    "        bike_data.add_feature(\"temp\")\n",
    "        bike_data.add_feature(\"windspeed\")\n",
    "        bike_data.add_feature(\"days_since_01_01_2011\")\n",
    "        bike_data.add_feature(\"hum\")\n",
    "        bike_data.intercept = True\n",
    "        \n",
    "    def standardize_fun(df):\n",
    "        from sklearn.preprocessing import StandardScaler\n",
    "        if standardize:\n",
    "            scaler = StandardScaler()\n",
    "            df[['temp', 'windspeed', 'days_since_01_01_2011', 'hum']] = scaler.fit_transform(df[['temp', 'windspeed', 'days_since_01_01_2011', 'hum']])\n",
    "        \n",
    "        return df \n",
    "    \n",
    "    return bike_data.return_Xy(transform_before=standardize_fun if standardize else None)\n"
   ]
  },
  {
   "cell_type": "code",
   "execution_count": 46,
   "metadata": {
    "tags": []
   },
   "outputs": [
    {
     "data": {
      "text/plain": [
       "(     Intercept      temp  windspeed  days_since_01_01_2011       hum\n",
       " 0          1.0 -0.826662  -0.387892              -1.729683  1.250171\n",
       " 1          1.0 -0.721095   0.749602              -1.724944  0.479113\n",
       " 2          1.0 -1.634657   0.746632              -1.720205 -1.339274\n",
       " 3          1.0 -1.614780  -0.389829              -1.715466 -0.263182\n",
       " 4          1.0 -1.467414  -0.046307              -1.710728 -1.341494\n",
       " ..         ...       ...        ...                    ...       ...\n",
       " 726        1.0 -1.318665   2.061426               1.710728  0.175807\n",
       " 727        1.0 -1.323224  -0.452131               1.715466 -0.266238\n",
       " 728        1.0 -1.323224  -0.853552               1.720205  0.878392\n",
       " 729        1.0 -1.309558   2.069444               1.724944 -1.015664\n",
       " 730        1.0 -1.528225  -0.460201               1.729683 -0.354061\n",
       " \n",
       " [731 rows x 5 columns],\n",
       "         cnt\n",
       " 0     985.0\n",
       " 1     801.0\n",
       " 2    1349.0\n",
       " 3    1562.0\n",
       " 4    1600.0\n",
       " ..      ...\n",
       " 726  2114.0\n",
       " 727  3095.0\n",
       " 728  1341.0\n",
       " 729  1796.0\n",
       " 730  2729.0\n",
       " \n",
       " [731 rows x 1 columns])"
      ]
     },
     "execution_count": 46,
     "metadata": {},
     "output_type": "execute_result"
    }
   ],
   "source": [
    "ex_1_1(True)"
   ]
  },
  {
   "cell_type": "code",
   "execution_count": 47,
   "metadata": {
    "tags": []
   },
   "outputs": [
    {
     "name": "stdout",
     "output_type": "stream",
     "text": [
      "Great work!\n"
     ]
    }
   ],
   "source": [
    "compare(\"ex_1_1\", ex_1_1)"
   ]
  },
  {
   "cell_type": "markdown",
   "metadata": {
    "tags": []
   },
   "source": [
    "## 1.2\n",
    "Create a function that excepts the L1-regularisation parameter `alpha` and a boolean `standardize` and fits a `Lasso`-Regressor with `random_state`=1 and `fit_intercept`=False on the, depending on the input, **standardized** dataset of `ex_1_1`. It should return the number of rescale-R2-score where the number of features is equal to the number of non-zero weights. You can find the required formula on page 40 of the interpretable ML book (https://christophm.github.io/interpretable-ml-book/interpretable-ml.pdf).\n",
    "\n",
    "You may re-use the function `ex_1_1` inside `ex_1_2`.\n",
    "\n",
    "Bonus (technical programming stuff): Why might it be beneficial to import `Lasso` **inside** the function, and also define everything you need **inside** that function? "
   ]
  },
  {
   "cell_type": "code",
   "execution_count": 48,
   "metadata": {
    "tags": []
   },
   "outputs": [],
   "source": [
    "def ex_1_2(alpha: float, standardize: bool) -> (float, np.array):\n",
    "    \n",
    "    import numpy as np \n",
    "    from sklearn.linear_model import Lasso\n",
    "    from sklearn.metrics import r2_score\n",
    "    X, y = ex_1_1(standardize)\n",
    "    \n",
    "    def scaled_r2_score(ytrue, ypred, p, n):\n",
    "        r2 = r2_score (ytrue, ypred) \n",
    "        return 1 - ((1 - r2) *((n - 1) / (n - p- 1)))\n",
    "    \n",
    "    \n",
    "        \n",
    "    lasso = Lasso(alpha=alpha, random_state=1, fit_intercept = False)\n",
    "    lasso.fit(X, y)\n",
    "    \n",
    "    \n",
    "    coef = lasso.coef_\n",
    "    \n",
    "    \n",
    "    ypred = lasso.predict(X)\n",
    "    n,p  = X.shape[0], X.shape[1]\n",
    "    \n",
    "    \n",
    "    return scaled_r2_score(y, ypred, p, n), coef\n",
    "\n",
    "\n"
   ]
  },
  {
   "cell_type": "code",
   "execution_count": 49,
   "metadata": {
    "tags": []
   },
   "outputs": [
    {
     "data": {
      "text/plain": [
       "(0.7346288107000903,\n",
       " array([ 3305.4192056 ,   124.3659432 , -3487.18064236,     4.89460636,\n",
       "        -2905.16602788]))"
      ]
     },
     "execution_count": 49,
     "metadata": {},
     "output_type": "execute_result"
    }
   ],
   "source": [
    "ex_1_2(alpha=0.1, standardize = False)"
   ]
  },
  {
   "cell_type": "code",
   "execution_count": 50,
   "metadata": {
    "tags": []
   },
   "outputs": [
    {
     "name": "stdout",
     "output_type": "stream",
     "text": [
      "Great work!\n"
     ]
    }
   ],
   "source": [
    "compare(\"ex_1_2\", ex_1_2)"
   ]
  },
  {
   "cell_type": "code",
   "execution_count": 51,
   "metadata": {
    "tags": []
   },
   "outputs": [
    {
     "data": {
      "image/png": "[encoded data removed]",
      "text/plain": [
       "<Figure size 1000x1000 with 1 Axes>"
      ]
     },
     "metadata": {},
     "output_type": "display_data"
    }
   ],
   "source": [
    "def create_lasso_regularisation_plot(ex_1_2):\n",
    "    alphas = np.logspace(0, 5, 100)\n",
    "    \n",
    "    X, y = ex_1_1(True)\n",
    "    ex_1_2_out = list(map(lambda a: list(ex_1_2(a, True)), alphas))\n",
    "    \n",
    "    fig = plt.figure(figsize=(10,10))\n",
    "    ax = plt.gca()\n",
    "    ax.set_xscale('log')\n",
    "\n",
    "    for i,feature_name in enumerate(X.columns):\n",
    "        plt.plot(alphas, [ex_1_2_out[a][1][i] for a in range(len(alphas))], label=feature_name)\n",
    "\n",
    "    plt.legend()\n",
    "    plt.xlabel(\"Log-Lambda\")\n",
    "    plt.ylabel(\"Weights\")\n",
    "    return \n",
    "\n",
    "#TODO: uncomment this\n",
    "create_lasso_regularisation_plot(ex_1_2)"
   ]
  },
  {
   "cell_type": "code",
   "execution_count": 52,
   "metadata": {
    "tags": []
   },
   "outputs": [
    {
     "data": {
      "image/png": "[encoded data removed]",
      "text/plain": [
       "<Figure size 640x480 with 1 Axes>"
      ]
     },
     "metadata": {},
     "output_type": "display_data"
    }
   ],
   "source": [
    "def create_r2_score_plot(ex_1_2):\n",
    "    alphas = np.logspace(0, 5, 100)\n",
    "    \n",
    "    ex_1_2_out = list(map(lambda a: list(ex_1_2(a, True)), alphas))\n",
    "    plt.plot(alphas, [ex_1_2_out[a][0] for a in range(len(alphas))], label=\"r2-score\")\n",
    "    ax = plt.gca()\n",
    "    ax.set_xscale('log')\n",
    "    plt.legend()\n",
    "    plt.xlabel(\"Log-Lambda\")\n",
    "    \n",
    "#TODO: uncomment this\n",
    "create_r2_score_plot(ex_1_2)"
   ]
  },
  {
   "cell_type": "markdown",
   "metadata": {},
   "source": [
    "Q: What does the r2-score tell you if it passes the x-axis, i.e. if it becomes lower than zero?"
   ]
  },
  {
   "cell_type": "markdown",
   "metadata": {
    "tags": []
   },
   "source": [
    "## 1.3 \n",
    "\n",
    "Use the function `naive_effect_plot` to generate an effect plot of the Lasso-Algorithm with `alpha`=1.0 and `random_state`=1 and trained on the **not standardized** dataset from exercise `1_1`.\n",
    "Where in this effect plot would the datapoint with the lowest rented bikes and the highest rented bikes lie? What is the feature in which these two datapoins differ the most? \n",
    "Write a function that returns the effect difference between these two data points for this feature."
   ]
  },
  {
   "cell_type": "code",
   "execution_count": 53,
   "metadata": {
    "tags": []
   },
   "outputs": [],
   "source": [
    "import copy\n",
    "def naive_effect_plot(X, y, coef):\n",
    "    \"\"\"\n",
    "    Make sure that X is *not* standardized. This would defeat the purpose of an effect plot!\n",
    "    \"\"\"\n",
    "    \n",
    "    Xmean = X.mean(axis=0)\n",
    "    Xstd = X.std(axis=0)\n",
    "    vary_features = {}\n",
    "    \n",
    "    steps=3\n",
    "    for col in X.columns:\n",
    "        X_grid = []\n",
    "        for a in np.linspace(-1,1,steps):\n",
    "            Xtemp = copy.copy(Xmean)\n",
    "            Xtemp[:] = 0\n",
    "            Xtemp[col] = Xmean[col]+a*Xstd[col]\n",
    "            X_grid.append(Xtemp)\n",
    "        # prediction + intercept\n",
    "        y_grid = np.dot(np.array(X_grid), coef)\n",
    "        vary_features.update({col: y_grid})\n",
    "    \n",
    "    pd.DataFrame(vary_features).boxplot(vert=False)\n",
    "    plt.xlabel(y.columns[0])\n",
    "    plt.ylabel(\"features\")\n",
    "    plt.show()\n"
   ]
  },
  {
   "cell_type": "code",
   "execution_count": 54,
   "metadata": {
    "tags": []
   },
   "outputs": [
    {
     "data": {
      "image/png": "[encoded data removed]",
      "text/plain": [
       "<Figure size 640x480 with 1 Axes>"
      ]
     },
     "metadata": {},
     "output_type": "display_data"
    }
   ],
   "source": [
    "#TODO: uncomment this\n",
    "X, y = ex_1_1(False)\n",
    "_, coef = ex_1_2(1.0, False)\n",
    "\n",
    "naive_effect_plot(X, y, coef)"
   ]
  },
  {
   "cell_type": "code",
   "execution_count": 55,
   "metadata": {
    "tags": []
   },
   "outputs": [
    {
     "data": {
      "text/html": [
       "<div>\n",
       "<style scoped>\n",
       "    .dataframe tbody tr th:only-of-type {\n",
       "        vertical-align: middle;\n",
       "    }\n",
       "\n",
       "    .dataframe tbody tr th {\n",
       "        vertical-align: top;\n",
       "    }\n",
       "\n",
       "    .dataframe thead th {\n",
       "        text-align: right;\n",
       "    }\n",
       "</style>\n",
       "<table border=\"1\" class=\"dataframe\">\n",
       "  <thead>\n",
       "    <tr style=\"text-align: right;\">\n",
       "      <th></th>\n",
       "      <th>Intercept</th>\n",
       "      <th>temp</th>\n",
       "      <th>windspeed</th>\n",
       "      <th>days_since_01_01_2011</th>\n",
       "      <th>hum</th>\n",
       "    </tr>\n",
       "  </thead>\n",
       "  <tbody>\n",
       "    <tr>\n",
       "      <th>0</th>\n",
       "      <td>1.0</td>\n",
       "      <td>8.175849</td>\n",
       "      <td>0.160446</td>\n",
       "      <td>0.0</td>\n",
       "      <td>0.805833</td>\n",
       "    </tr>\n",
       "    <tr>\n",
       "      <th>1</th>\n",
       "      <td>1.0</td>\n",
       "      <td>9.083466</td>\n",
       "      <td>0.248539</td>\n",
       "      <td>1.0</td>\n",
       "      <td>0.696087</td>\n",
       "    </tr>\n",
       "    <tr>\n",
       "      <th>2</th>\n",
       "      <td>1.0</td>\n",
       "      <td>1.229108</td>\n",
       "      <td>0.248309</td>\n",
       "      <td>2.0</td>\n",
       "      <td>0.437273</td>\n",
       "    </tr>\n",
       "    <tr>\n",
       "      <th>3</th>\n",
       "      <td>1.0</td>\n",
       "      <td>1.400000</td>\n",
       "      <td>0.160296</td>\n",
       "      <td>3.0</td>\n",
       "      <td>0.590435</td>\n",
       "    </tr>\n",
       "    <tr>\n",
       "      <th>4</th>\n",
       "      <td>1.0</td>\n",
       "      <td>2.666979</td>\n",
       "      <td>0.186900</td>\n",
       "      <td>4.0</td>\n",
       "      <td>0.436957</td>\n",
       "    </tr>\n",
       "    <tr>\n",
       "      <th>...</th>\n",
       "      <td>...</td>\n",
       "      <td>...</td>\n",
       "      <td>...</td>\n",
       "      <td>...</td>\n",
       "      <td>...</td>\n",
       "    </tr>\n",
       "    <tr>\n",
       "      <th>726</th>\n",
       "      <td>1.0</td>\n",
       "      <td>3.945849</td>\n",
       "      <td>0.350133</td>\n",
       "      <td>726.0</td>\n",
       "      <td>0.652917</td>\n",
       "    </tr>\n",
       "    <tr>\n",
       "      <th>727</th>\n",
       "      <td>1.0</td>\n",
       "      <td>3.906651</td>\n",
       "      <td>0.155471</td>\n",
       "      <td>727.0</td>\n",
       "      <td>0.590000</td>\n",
       "    </tr>\n",
       "    <tr>\n",
       "      <th>728</th>\n",
       "      <td>1.0</td>\n",
       "      <td>3.906651</td>\n",
       "      <td>0.124383</td>\n",
       "      <td>728.0</td>\n",
       "      <td>0.752917</td>\n",
       "    </tr>\n",
       "    <tr>\n",
       "      <th>729</th>\n",
       "      <td>1.0</td>\n",
       "      <td>4.024151</td>\n",
       "      <td>0.350754</td>\n",
       "      <td>729.0</td>\n",
       "      <td>0.483333</td>\n",
       "    </tr>\n",
       "    <tr>\n",
       "      <th>730</th>\n",
       "      <td>1.0</td>\n",
       "      <td>2.144151</td>\n",
       "      <td>0.154846</td>\n",
       "      <td>730.0</td>\n",
       "      <td>0.577500</td>\n",
       "    </tr>\n",
       "  </tbody>\n",
       "</table>\n",
       "<p>731 rows × 5 columns</p>\n",
       "</div>"
      ],
      "text/plain": [
       "     Intercept      temp  windspeed  days_since_01_01_2011       hum\n",
       "0          1.0  8.175849   0.160446                    0.0  0.805833\n",
       "1          1.0  9.083466   0.248539                    1.0  0.696087\n",
       "2          1.0  1.229108   0.248309                    2.0  0.437273\n",
       "3          1.0  1.400000   0.160296                    3.0  0.590435\n",
       "4          1.0  2.666979   0.186900                    4.0  0.436957\n",
       "..         ...       ...        ...                    ...       ...\n",
       "726        1.0  3.945849   0.350133                  726.0  0.652917\n",
       "727        1.0  3.906651   0.155471                  727.0  0.590000\n",
       "728        1.0  3.906651   0.124383                  728.0  0.752917\n",
       "729        1.0  4.024151   0.350754                  729.0  0.483333\n",
       "730        1.0  2.144151   0.154846                  730.0  0.577500\n",
       "\n",
       "[731 rows x 5 columns]"
      ]
     },
     "execution_count": 55,
     "metadata": {},
     "output_type": "execute_result"
    }
   ],
   "source": [
    "X"
   ]
  },
  {
   "cell_type": "code",
   "execution_count": 56,
   "metadata": {
    "tags": []
   },
   "outputs": [],
   "source": [
    "\n",
    "\n",
    "\n",
    "def ex_1_3() -> float:\n",
    "    X, y = ex_1_1(False)\n",
    "    _, coef = ex_1_2(1.0, False)\n",
    "    \n",
    "    #TODO\n",
    "    Xmin = X.loc[667]\n",
    "    Xmax = X.loc[623]\n",
    "    #TODO\n",
    "    return (coef * (Xmax - Xmin)).max()"
   ]
  },
  {
   "cell_type": "code",
   "execution_count": 57,
   "metadata": {
    "tags": []
   },
   "outputs": [
    {
     "name": "stdout",
     "output_type": "stream",
     "text": [
      "Great work!\n"
     ]
    }
   ],
   "source": [
    "compare(\"ex_1_3\", ex_1_3)"
   ]
  },
  {
   "cell_type": "code",
   "execution_count": 58,
   "metadata": {
    "tags": []
   },
   "outputs": [
    {
     "data": {
      "text/plain": [
       "1060.7053327432864"
      ]
     },
     "execution_count": 58,
     "metadata": {},
     "output_type": "execute_result"
    }
   ],
   "source": [
    "#TODO: uncomment this\n",
    "ex_1_3()"
   ]
  },
  {
   "cell_type": "markdown",
   "metadata": {},
   "source": [
    "Q: What did you think was going on that day? How could you check? What other features are there that we haven't used?"
   ]
  },
  {
   "cell_type": "markdown",
   "metadata": {
    "tags": []
   },
   "source": [
    "## 1.4\n",
    "\n",
    "Maybe people care less about temperature if they have to get to work and rent a bike regardless. How can we check that? -> By adding an interaction feature between `temp` and `workingday`\n",
    "\n",
    "First, make a new dataset `cnt ~ 1 + temp + workingday + interaction(temp, workingday)`. No standardisation of the temperature feature!\n",
    "\n",
    "Your interaction function should have the effect that your linear model can fit two different weights/slopes for the temperature feature depending on whether or not the day was a workingday.\n",
    "\n",
    "Then write a function that fits a simple Linear Regression model (not LASSO!) on the dataset and outputs a tuple of floats where the first is the increase of number of rented bikes per degree if workingday, and the second float is the increase of number of rented bikes per degree if not a working day"
   ]
  },
  {
   "cell_type": "code",
   "execution_count": 59,
   "metadata": {
    "tags": []
   },
   "outputs": [],
   "source": [
    "def ex_1_4() -> tuple[float, float]:\n",
    "    \n",
    "    def interaction(temp, workingday):\n",
    "        return temp * workingday\n",
    "        pass\n",
    "    \n",
    "    bike_data = FeatureModel(\"datasets/bike/rented_bikes_day_pre.csv\")\n",
    "    bike_data.add_target(\"cnt\")\n",
    "    bike_data.add_feature(\"temp\")\n",
    "    bike_data.add_feature(\"workingday\")\n",
    "    bike_data.add_function_feature(interaction,'temp',['workingday'])\n",
    "    bike_data.intercept = True\n",
    "           \n",
    "    #TODO\n",
    "    from sklearn.linear_model import LinearRegression\n",
    "    X,y = bike_data.return_Xy()\n",
    "    model = LinearRegression(fit_intercept=False)\n",
    "    model.fit(X,y)\n",
    "    w_temp = model.coef_[0][1]\n",
    "    w_workingday = model.coef_[0][2]\n",
    "    w_temp_and_workingday = model.coef_[0][3]\n",
    "    # TODO\n",
    "\n",
    "    return w_temp + w_temp_and_workingday ,  w_temp"
   ]
  },
  {
   "cell_type": "code",
   "execution_count": 60,
   "metadata": {
    "tags": []
   },
   "outputs": [
    {
     "name": "stdout",
     "output_type": "stream",
     "text": [
      "Great work!\n"
     ]
    }
   ],
   "source": [
    "compare(\"ex_1_4\", ex_1_4)"
   ]
  },
  {
   "cell_type": "code",
   "execution_count": 61,
   "metadata": {
    "tags": []
   },
   "outputs": [
    {
     "name": "stdout",
     "output_type": "stream",
     "text": [
      "FeatureModel(->Not fully specified yet!)\n",
      "FeatureModel(cnt ~ -1 + temp )\n",
      "FeatureModel(cnt ~ -1 + temp + workingday )\n",
      "FeatureModel(cnt ~ -1 + temp + workingday  + interaction(temp,workingday))\n"
     ]
    }
   ],
   "source": [
    "w_of_temp_if_is_workingday, w_of_temp_if_isnt_workingday = ex_1_4()"
   ]
  },
  {
   "cell_type": "code",
   "execution_count": 62,
   "metadata": {
    "tags": []
   },
   "outputs": [
    {
     "data": {
      "image/png": "[encoded data removed]",
      "text/plain": [
       "<Figure size 640x480 with 1 Axes>"
      ]
     },
     "metadata": {},
     "output_type": "display_data"
    }
   ],
   "source": [
    "temps = np.linspace(-5, 30, 100)\n",
    "plt.plot(temps, w_of_temp_if_is_workingday*temps, label=\"is workingday\")\n",
    "plt.plot(temps, w_of_temp_if_isnt_workingday*temps, label=\"is not workingday\")\n",
    "plt.legend()\n",
    "plt.show()"
   ]
  },
  {
   "cell_type": "markdown",
   "metadata": {
    "tags": []
   },
   "source": [
    "## 1.5\n",
    "Up to this point we have only considered modeling a linear dependence for the target variable of the temperature feature. It seems more natural that this effect saturates at higher temperatures (people find it too warm to ride a bike). Let's try to capture this by expanding up our one temperature feature into many different features using smooth basis functions. This class of model is called a linear additive model.\n",
    "\n",
    "Write a function that as input takes the scale parameter `s` and a list of floats called `centers` and then it first creates the following dataset `cnt ~ 1 + temp  + gaussian(temp,centers[0],s) + gaussian(temp,centers[1],s) + ... + gaussian(temp,centers[-1],s)` where the function `gaussian` is given by \n",
    "$$g(t, c, s) = \\exp({-\\frac{(t-c)^2}{s^2}})$$\n",
    "and where the center and scale parameter $s$ are given by the function input.\n",
    "\n",
    "Then, the function should fit a Linear Regression and return the coefficients/weights."
   ]
  },
  {
   "cell_type": "code",
   "execution_count": 63,
   "metadata": {
    "tags": []
   },
   "outputs": [],
   "source": [
    "def ex_1_5(centers: list[float], scale: float) -> np.ndarray:\n",
    "    # we just make this function global so that we can re-use it out of scope (without passing it)\n",
    "    global gaussian\n",
    "    def gaussian(temp, center, scale=scale):\n",
    "        #TODO\n",
    "        return np.exp(-(np.square(temp- center))/np.square(scale))\n",
    "        pass\n",
    "\n",
    "    bike_data = FeatureModel(\"datasets/bike/rented_bikes_day_pre.csv\")\n",
    "    #TODO\n",
    "    bike_data.add_target('cnt')\n",
    "    bike_data.add_feature('temp')\n",
    "    for center in centers:\n",
    "        bike_data.add_function_feature(gaussian,'temp',[[center,scale]])\n",
    "        bike_data.intercept = True\n",
    "    X, y = bike_data.return_Xy(transform_before = None)\n",
    "    from sklearn.linear_model import LinearRegression\n",
    "    model = LinearRegression(fit_intercept=False)\n",
    "    #TODO\n",
    "    model.fit(X,y)\n",
    "    coef = model.coef_\n",
    "    return coef[0]\n"
   ]
  },
  {
   "cell_type": "code",
   "execution_count": 64,
   "metadata": {
    "tags": []
   },
   "outputs": [
    {
     "name": "stdout",
     "output_type": "stream",
     "text": [
      "FeatureModel(->Not fully specified yet!)\n",
      "FeatureModel(cnt ~ -1 + temp )\n",
      "FeatureModel(cnt ~ -1 + temp  + gaussian(temp,2.8,2.0))\n",
      "FeatureModel(cnt ~ 1 + temp  + gaussian(temp,2.8,2.0) + gaussian(temp,1.9,2.0))\n"
     ]
    },
    {
     "data": {
      "text/plain": [
       "array([ 2775.74822177,   120.90822772,  -533.36142331, -1145.70347804])"
      ]
     },
     "execution_count": 64,
     "metadata": {},
     "output_type": "execute_result"
    }
   ],
   "source": [
    "ex_1_5(centers=[2.8, 1.9], scale=2.0)"
   ]
  },
  {
   "cell_type": "code",
   "execution_count": 65,
   "metadata": {
    "tags": []
   },
   "outputs": [
    {
     "name": "stdout",
     "output_type": "stream",
     "text": [
      "Great work!\n"
     ]
    }
   ],
   "source": [
    "compare(\"ex_1_5\", ex_1_5)"
   ]
  },
  {
   "cell_type": "code",
   "execution_count": 66,
   "metadata": {
    "tags": []
   },
   "outputs": [],
   "source": [
    "def plot_temperature_dependence(coef, centers):\n",
    "    temps = np.linspace(-5, 30, 100)\n",
    "    gaussian_prediction = coef[:, 2:]@np.array(list(map(lambda center: gaussian(temps, center), centers)))\n",
    "    linear_prediction = coef[:, 1]*temps\n",
    "    intercept = coef[:, 0]\n",
    "    plt.plot(temps, gaussian_prediction[0]+linear_prediction+intercept)\n",
    "    plt.xlabel(\"Temperature [deg]\")\n",
    "    plt.ylabel(\"cnt\")"
   ]
  },
  {
   "cell_type": "code",
   "execution_count": 67,
   "metadata": {
    "tags": []
   },
   "outputs": [],
   "source": [
    "#TODO\n",
    "centers = []\n",
    "scale=5\n",
    "#TODO: uncomment this\n",
    "#plot_temperature_dependence(ex_1_5(centers, scale), centers)"
   ]
  },
  {
   "cell_type": "code",
   "execution_count": 68,
   "metadata": {
    "tags": []
   },
   "outputs": [
    {
     "data": {
      "text/plain": [
       "{'ex_1_1': True,\n",
       " 'ex_1_2': True,\n",
       " 'ex_1_3': True,\n",
       " 'ex_1_4': True,\n",
       " 'ex_1_5': True}"
      ]
     },
     "execution_count": 68,
     "metadata": {},
     "output_type": "execute_result"
    }
   ],
   "source": [
    "from ce1_compare import scores, grade\n",
    "scores"
   ]
  },
  {
   "cell_type": "code",
   "execution_count": 69,
   "metadata": {
    "tags": []
   },
   "outputs": [],
   "source": [
    "#TODO: run this\n",
    "write_submission_txt()"
   ]
  },
  {
   "cell_type": "code",
   "execution_count": 70,
   "metadata": {
    "tags": []
   },
   "outputs": [
    {
     "data": {
      "text/plain": [
       "'100.0% are correct'"
      ]
     },
     "execution_count": 70,
     "metadata": {},
     "output_type": "execute_result"
    }
   ],
   "source": [
    "grade(\"ce1_Srusti_Ujjinimath.txt\")"
   ]
  },
  {
   "cell_type": "code",
   "execution_count": null,
   "metadata": {},
   "outputs": [],
   "source": []
  },
  {
   "cell_type": "code",
   "execution_count": null,
   "metadata": {},
   "outputs": [],
   "source": []
  },
  {
   "cell_type": "code",
   "execution_count": null,
   "metadata": {},
   "outputs": [],
   "source": []
  },
  {
   "cell_type": "code",
   "execution_count": null,
   "metadata": {},
   "outputs": [],
   "source": []
  },
  {
   "cell_type": "code",
   "execution_count": null,
   "metadata": {},
   "outputs": [],
   "source": []
  }
 ],
 "metadata": {
  "interpreter": {
   "hash": "687d99c135f695afcc4493fdf91e16807faa4e221160a5d096775a6978e05562"
  },
  "kernelspec": {
   "display_name": "Python 3 (ipykernel)",
   "language": "python",
   "name": "python3"
  },
  "language_info": {
   "codemirror_mode": {
    "name": "ipython",
    "version": 3
   },
   "file_extension": ".py",
   "mimetype": "text/x-python",
   "name": "python",
   "nbconvert_exporter": "python",
   "pygments_lexer": "ipython3",
   "version": "3.9.16"
  }
 },
 "nbformat": 4,
 "nbformat_minor": 4
}
